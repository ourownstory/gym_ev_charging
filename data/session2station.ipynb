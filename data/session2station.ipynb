{
 "cells": [
  {
   "cell_type": "code",
   "execution_count": 4,
   "metadata": {},
   "outputs": [],
   "source": [
    "import pandas as pd\n",
    "from datetime import datetime\n",
    "# import matplotlib.pyplot as plt\n",
    "# import numpy as np"
   ]
  },
  {
   "cell_type": "code",
   "execution_count": 5,
   "metadata": {},
   "outputs": [],
   "source": [
    "do_clean = False"
   ]
  },
  {
   "cell_type": "code",
   "execution_count": 6,
   "metadata": {},
   "outputs": [
    {
     "name": "stdout",
     "output_type": "stream",
     "text": [
      "    Port ID  Energy (kWh) Station Start Time (Local)  Session Time (secs)\n",
      "0  123291.0     24.346367        2016-01-01 16:41:20                14979\n",
      "1  121533.0      2.449812        2016-01-04 07:36:51                 2831\n",
      "2  123291.0     11.995313        2016-01-04 08:18:16                33836\n"
     ]
    }
   ],
   "source": [
    "if do_clean:\n",
    "    path = \"\"\n",
    "else:\n",
    "    path = \"clean/\"\n",
    "    \n",
    "# file = \"sessions_161718_top1000.csv\"\n",
    "# file = \"sessions_161718_95014_top10.csv\"\n",
    "file = \"sessions_161718_95014_tail10.csv\"\n",
    "\n",
    "df = pd.read_csv(path + file, index_col=False) \n",
    "\n",
    "print(df.head(3))\n"
   ]
  },
  {
   "cell_type": "code",
   "execution_count": 7,
   "metadata": {},
   "outputs": [],
   "source": [
    "if do_clean:\n",
    "    # remove noise:\n",
    "    df = df[df[\"Session Time (secs)\"] > 5*60]\n",
    "    df[\"Session Time (secs)\"] = df[\"Session Time (secs)\"].apply(lambda x: min(x, 24*3600))\n",
    "    df = df[df[\"Energy (kWh)\"] > 1]\n",
    "    df[\"Energy (kWh)\"] = df[\"Energy (kWh)\"].apply(lambda x: min(x, 100))\n",
    "\n",
    "    # convert to datetimes and sort\n",
    "    df['Station Start Time (Local)'] = df['Station Start Time (Local)'].apply(\n",
    "        lambda x: datetime.strptime(x, \"%Y-%m-%d %H:%M:%S.%f\"))\n",
    "    df = df.sort_values(['Station Start Time (Local)']) \n",
    "    df = df[['Station Start Time (Local)', \"Energy (kWh)\", \"Session Time (secs)\"]]\n"
   ]
  },
  {
   "cell_type": "code",
   "execution_count": 8,
   "metadata": {},
   "outputs": [],
   "source": [
    "if do_clean:\n",
    "    df.to_csv(path + \"clean/\"  + file, index=False)"
   ]
  },
  {
   "cell_type": "code",
   "execution_count": null,
   "metadata": {},
   "outputs": [],
   "source": []
  },
  {
   "cell_type": "code",
   "execution_count": null,
   "metadata": {},
   "outputs": [],
   "source": []
  },
  {
   "cell_type": "code",
   "execution_count": 9,
   "metadata": {},
   "outputs": [],
   "source": [
    "def session_csv2station_list(df):\n",
    "    # Ports\n",
    "    station_id = df[\"Port ID\"].unique()\n",
    "#     print(station_id)\n",
    "\n",
    "    # convert to datetimes and sort\n",
    "    df['Station Start Time (Local)'] = df['Station Start Time (Local)'].apply(\n",
    "        lambda x: datetime.strptime(x, \"%Y-%m-%d %H:%M:%S\"))\n",
    "    df = df.sort_values(['Station Start Time (Local)']) \n",
    "\n",
    "    # convert to hours\n",
    "    df['Session Time (secs)'] = df['Session Time (secs)'] / 3600.0\n",
    "\n",
    "    # iterate: split ports, create tuples\n",
    "    station_list = []\n",
    "    for this_id in station_id:\n",
    "        df_id = df[df[\"Port ID\"] == this_id]\n",
    "        df_id = df_id.drop(columns=[\"Port ID\"])\n",
    "        station_list.append(list(df_id.itertuples(index=False, name=None)))  \n",
    "        \n",
    "    return station_list"
   ]
  },
  {
   "cell_type": "code",
   "execution_count": 10,
   "metadata": {},
   "outputs": [],
   "source": [
    "station_list = session_csv2station_list(df)\n"
   ]
  },
  {
   "cell_type": "code",
   "execution_count": 11,
   "metadata": {},
   "outputs": [
    {
     "name": "stdout",
     "output_type": "stream",
     "text": [
      "(15.3313, Timestamp('2016-04-11 22:24:21'), 3.1594444444444445)\n",
      "(18.414671, Timestamp('2016-04-12 09:34:06'), 3.5083333333333333)\n",
      "(8.304698, Timestamp('2016-04-13 10:28:21'), 1.3747222222222222)\n",
      "(7.185753, Timestamp('2016-04-13 13:41:34'), 3.7305555555555556)\n",
      "(5.625832, Timestamp('2016-04-14 09:15:05'), 8.960277777777778)\n",
      "(12.537595, Timestamp('2016-04-15 09:20:16'), 7.104722222222223)\n",
      "(53.248348, Timestamp('2016-04-18 09:57:12'), 9.335277777777778)\n",
      "(10.758947000000001, Timestamp('2016-04-19 09:11:15'), 5.488333333333333)\n",
      "(12.043006, Timestamp('2016-04-20 10:46:07'), 3.4252777777777776)\n",
      "(4.709206, Timestamp('2016-04-20 14:13:04'), 4.906944444444444)\n",
      "(30.753384000000004, Timestamp('2018-10-26 08:34:06'), 5.106111111111111)\n",
      "(3.5044839999999997, Timestamp('2018-10-26 13:52:34'), 4.276666666666666)\n",
      "(6.270281, Timestamp('2018-10-29 09:36:58'), 1.9908333333333332)\n",
      "(19.151569, Timestamp('2018-10-29 11:44:52'), 5.282222222222222)\n",
      "(3.602533, Timestamp('2018-10-29 17:25:04'), 1.0730555555555557)\n",
      "(39.798504, Timestamp('2018-10-30 10:12:07'), 6.512222222222222)\n",
      "(7.302746000000001, Timestamp('2018-10-30 18:04:43'), 1.1916666666666667)\n",
      "(40.440536, Timestamp('2018-10-31 09:38:02'), 6.736944444444444)\n",
      "(8.801799, Timestamp('2018-11-01 09:53:30'), 1.5158333333333334)\n",
      "(26.6574, Timestamp('2018-11-01 11:49:08'), 4.3025)\n"
     ]
    }
   ],
   "source": [
    "# print(station_list_tail)\n",
    "for entry in station_list[3][:10]:\n",
    "    print(entry)  \n",
    "\n",
    "for entry in station_list[3][-10:]:\n",
    "    print(entry)  "
   ]
  },
  {
   "cell_type": "code",
   "execution_count": null,
   "metadata": {},
   "outputs": [],
   "source": []
  }
 ],
 "metadata": {
  "kernelspec": {
   "display_name": "script3",
   "language": "python",
   "name": "script3"
  },
  "language_info": {
   "codemirror_mode": {
    "name": "ipython",
    "version": 3
   },
   "file_extension": ".py",
   "mimetype": "text/x-python",
   "name": "python",
   "nbconvert_exporter": "python",
   "pygments_lexer": "ipython3",
   "version": "3.6.3"
  }
 },
 "nbformat": 4,
 "nbformat_minor": 2
}
